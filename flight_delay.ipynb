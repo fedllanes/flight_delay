{
  "nbformat": 4,
  "nbformat_minor": 0,
  "metadata": {
    "kernelspec": {
      "display_name": "Python 3",
      "language": "python",
      "name": "python3"
    },
    "language_info": {
      "codemirror_mode": {
        "name": "ipython",
        "version": 3
      },
      "file_extension": ".py",
      "mimetype": "text/x-python",
      "name": "python",
      "nbconvert_exporter": "python",
      "pygments_lexer": "ipython3",
      "version": "3.8.2"
    },
    "colab": {
      "name": "flight_delay.ipynb",
      "provenance": [],
      "collapsed_sections": [
        "OXeTDcsCbSBd",
        "qCSpnDYnbSBh",
        "lc_5Cwf2bSBk"
      ],
      "include_colab_link": true
    },
    "accelerator": "GPU"
  },
  "cells": [
    {
      "cell_type": "markdown",
      "metadata": {
        "id": "view-in-github",
        "colab_type": "text"
      },
      "source": [
        "<a href=\"https://colab.research.google.com/github/fedllanes/flight_delay/blob/main/flight_delay.ipynb\" target=\"_parent\"><img src=\"https://colab.research.google.com/assets/colab-badge.svg\" alt=\"Open In Colab\"/></a>"
      ]
    },
    {
      "cell_type": "code",
      "metadata": {
        "colab": {
          "base_uri": "https://localhost:8080/"
        },
        "id": "JJrLuUffbfTS",
        "outputId": "062c726c-048c-4fbd-e7d6-ba5684dc0b6f"
      },
      "source": [
        "from google.colab import drive\n",
        "drive.mount('/content/drive')"
      ],
      "execution_count": 54,
      "outputs": [
        {
          "output_type": "stream",
          "text": [
            "Drive already mounted at /content/drive; to attempt to forcibly remount, call drive.mount(\"/content/drive\", force_remount=True).\n"
          ],
          "name": "stdout"
        }
      ]
    },
    {
      "cell_type": "code",
      "metadata": {
        "colab": {
          "base_uri": "https://localhost:8080/"
        },
        "id": "ziWWnajQb_19",
        "outputId": "7daac72a-ff0e-4793-fa5b-e2c0e340174a"
      },
      "source": [
        "%cd /content/drive/My Drive/Colab Notebooks/Airport"
      ],
      "execution_count": 55,
      "outputs": [
        {
          "output_type": "stream",
          "text": [
            "/content/drive/My Drive/Colab Notebooks/Airport\n"
          ],
          "name": "stdout"
        }
      ]
    },
    {
      "cell_type": "markdown",
      "metadata": {
        "id": "MPZRzsg6bSBX"
      },
      "source": [
        "The data used is from Kaggle.\n",
        "https://www.kaggle.com/usdot/flight-delays\n",
        "\n",
        "# Context\n",
        "The U.S. Department of Transportation's (DOT) Bureau of Transportation Statistics tracks the on-time performance of domestic flights operated by large air carriers. Summary information on the number of on-time, delayed, canceled, and diverted flights is published in DOT's monthly Air Travel Consumer Report and in this dataset of 2015 flight delays and cancellations.\n",
        "\n",
        "# Acknowledgements\n",
        "The flight delay and cancellation data was collected and published by the DOT's Bureau of Transportation Statistics."
      ]
    },
    {
      "cell_type": "markdown",
      "metadata": {
        "id": "JaAE14XYbSBY"
      },
      "source": [
        "The original dataset is massive, we will be using exactly 1 percent of it"
      ]
    },
    {
      "cell_type": "markdown",
      "metadata": {
        "id": "rpXJ1Eo4bSBY"
      },
      "source": [
        "# Objectives \n",
        "\n",
        "The goal of the project is being able to visualize the data to gain some insight into US flights, and information related to delays in particular.\n",
        "\n",
        "We will also try to train a model to predict flight delays."
      ]
    },
    {
      "cell_type": "code",
      "metadata": {
        "id": "Ch6L9q7_bSBZ"
      },
      "source": [
        "import pandas as pd\n",
        "import numpy as np"
      ],
      "execution_count": 56,
      "outputs": []
    },
    {
      "cell_type": "code",
      "metadata": {
        "colab": {
          "base_uri": "https://localhost:8080/"
        },
        "id": "N0YVVcKBbSBZ",
        "outputId": "ef4abe8d-88f7-481d-f060-f7d5136e117b"
      },
      "source": [
        "airports = pd.read_csv(\"airports.csv\")\n",
        "flights = pd.read_csv(\"flights.csv\") \n",
        "planes = pd.read_csv(\"planes.csv\")\n",
        "new = pd.read_csv(\"new.csv\")\n",
        "airlines = pd.read_csv(\"airlines.csv\")\n",
        "airports2 = pd.read_csv(\"airports2.csv\")"
      ],
      "execution_count": 57,
      "outputs": [
        {
          "output_type": "stream",
          "text": [
            "/usr/local/lib/python3.6/dist-packages/IPython/core/interactiveshell.py:2718: DtypeWarning: Columns (7,8) have mixed types.Specify dtype option on import or set low_memory=False.\n",
            "  interactivity=interactivity, compiler=compiler, result=result)\n"
          ],
          "name": "stderr"
        }
      ]
    },
    {
      "cell_type": "markdown",
      "metadata": {
        "id": "9L9PTHQkbSBZ"
      },
      "source": [
        "# ANALYSIS OF THE DIFFERENT DATAFRAMES."
      ]
    },
    {
      "cell_type": "code",
      "metadata": {
        "colab": {
          "base_uri": "https://localhost:8080/",
          "height": 108
        },
        "id": "U_mv4zqpbSBa",
        "outputId": "079c70df-203a-4b2f-eea2-47375e048a32"
      },
      "source": [
        "#Information about the airports, we will be using the name of the airport\n",
        "airports.head(2)"
      ],
      "execution_count": 58,
      "outputs": [
        {
          "output_type": "execute_result",
          "data": {
            "text/html": [
              "<div>\n",
              "<style scoped>\n",
              "    .dataframe tbody tr th:only-of-type {\n",
              "        vertical-align: middle;\n",
              "    }\n",
              "\n",
              "    .dataframe tbody tr th {\n",
              "        vertical-align: top;\n",
              "    }\n",
              "\n",
              "    .dataframe thead th {\n",
              "        text-align: right;\n",
              "    }\n",
              "</style>\n",
              "<table border=\"1\" class=\"dataframe\">\n",
              "  <thead>\n",
              "    <tr style=\"text-align: right;\">\n",
              "      <th></th>\n",
              "      <th>faa</th>\n",
              "      <th>name</th>\n",
              "      <th>lat</th>\n",
              "      <th>lon</th>\n",
              "      <th>alt</th>\n",
              "      <th>tz</th>\n",
              "      <th>dst</th>\n",
              "      <th>tzone</th>\n",
              "    </tr>\n",
              "  </thead>\n",
              "  <tbody>\n",
              "    <tr>\n",
              "      <th>0</th>\n",
              "      <td>04G</td>\n",
              "      <td>Lansdowne Airport</td>\n",
              "      <td>41.130472</td>\n",
              "      <td>-80.619583</td>\n",
              "      <td>1044</td>\n",
              "      <td>-5</td>\n",
              "      <td>A</td>\n",
              "      <td>America/New_York</td>\n",
              "    </tr>\n",
              "    <tr>\n",
              "      <th>1</th>\n",
              "      <td>06A</td>\n",
              "      <td>Moton Field Municipal Airport</td>\n",
              "      <td>32.460572</td>\n",
              "      <td>-85.680028</td>\n",
              "      <td>264</td>\n",
              "      <td>-6</td>\n",
              "      <td>A</td>\n",
              "      <td>America/Chicago</td>\n",
              "    </tr>\n",
              "  </tbody>\n",
              "</table>\n",
              "</div>"
            ],
            "text/plain": [
              "   faa                           name        lat  ...  tz  dst             tzone\n",
              "0  04G              Lansdowne Airport  41.130472  ...  -5    A  America/New_York\n",
              "1  06A  Moton Field Municipal Airport  32.460572  ...  -6    A   America/Chicago\n",
              "\n",
              "[2 rows x 8 columns]"
            ]
          },
          "metadata": {
            "tags": []
          },
          "execution_count": 58
        }
      ]
    },
    {
      "cell_type": "code",
      "metadata": {
        "colab": {
          "base_uri": "https://localhost:8080/",
          "height": 108
        },
        "id": "szXHBZtgbSBb",
        "outputId": "b1915dcb-2a0a-41fc-a26b-1d63255934e7"
      },
      "source": [
        "#From this dataset we will be getting the manufacturer name.\n",
        "planes.head(2) "
      ],
      "execution_count": 59,
      "outputs": [
        {
          "output_type": "execute_result",
          "data": {
            "text/html": [
              "<div>\n",
              "<style scoped>\n",
              "    .dataframe tbody tr th:only-of-type {\n",
              "        vertical-align: middle;\n",
              "    }\n",
              "\n",
              "    .dataframe tbody tr th {\n",
              "        vertical-align: top;\n",
              "    }\n",
              "\n",
              "    .dataframe thead th {\n",
              "        text-align: right;\n",
              "    }\n",
              "</style>\n",
              "<table border=\"1\" class=\"dataframe\">\n",
              "  <thead>\n",
              "    <tr style=\"text-align: right;\">\n",
              "      <th></th>\n",
              "      <th>tailnum</th>\n",
              "      <th>year</th>\n",
              "      <th>type</th>\n",
              "      <th>manufacturer</th>\n",
              "      <th>model</th>\n",
              "      <th>engines</th>\n",
              "      <th>seats</th>\n",
              "      <th>speed</th>\n",
              "      <th>engine</th>\n",
              "    </tr>\n",
              "  </thead>\n",
              "  <tbody>\n",
              "    <tr>\n",
              "      <th>0</th>\n",
              "      <td>N10156</td>\n",
              "      <td>2004.0</td>\n",
              "      <td>Fixed wing multi engine</td>\n",
              "      <td>EMBRAER</td>\n",
              "      <td>EMB-145XR</td>\n",
              "      <td>2</td>\n",
              "      <td>55</td>\n",
              "      <td>NaN</td>\n",
              "      <td>Turbo-fan</td>\n",
              "    </tr>\n",
              "    <tr>\n",
              "      <th>1</th>\n",
              "      <td>N102UW</td>\n",
              "      <td>1998.0</td>\n",
              "      <td>Fixed wing multi engine</td>\n",
              "      <td>AIRBUS INDUSTRIE</td>\n",
              "      <td>A320-214</td>\n",
              "      <td>2</td>\n",
              "      <td>182</td>\n",
              "      <td>NaN</td>\n",
              "      <td>Turbo-fan</td>\n",
              "    </tr>\n",
              "  </tbody>\n",
              "</table>\n",
              "</div>"
            ],
            "text/plain": [
              "  tailnum    year                     type  ... seats speed     engine\n",
              "0  N10156  2004.0  Fixed wing multi engine  ...    55   NaN  Turbo-fan\n",
              "1  N102UW  1998.0  Fixed wing multi engine  ...   182   NaN  Turbo-fan\n",
              "\n",
              "[2 rows x 9 columns]"
            ]
          },
          "metadata": {
            "tags": []
          },
          "execution_count": 59
        }
      ]
    },
    {
      "cell_type": "code",
      "metadata": {
        "colab": {
          "base_uri": "https://localhost:8080/",
          "height": 108
        },
        "id": "Xh9KjtzrbSBb",
        "outputId": "84e7e1f6-d708-4074-9aa3-59f19bbbbaed"
      },
      "source": [
        "#Here we care about the name of the airlines, to not use the acronym\n",
        "airlines.head(2)"
      ],
      "execution_count": 60,
      "outputs": [
        {
          "output_type": "execute_result",
          "data": {
            "text/html": [
              "<div>\n",
              "<style scoped>\n",
              "    .dataframe tbody tr th:only-of-type {\n",
              "        vertical-align: middle;\n",
              "    }\n",
              "\n",
              "    .dataframe tbody tr th {\n",
              "        vertical-align: top;\n",
              "    }\n",
              "\n",
              "    .dataframe thead th {\n",
              "        text-align: right;\n",
              "    }\n",
              "</style>\n",
              "<table border=\"1\" class=\"dataframe\">\n",
              "  <thead>\n",
              "    <tr style=\"text-align: right;\">\n",
              "      <th></th>\n",
              "      <th>carrier</th>\n",
              "      <th>name</th>\n",
              "    </tr>\n",
              "  </thead>\n",
              "  <tbody>\n",
              "    <tr>\n",
              "      <th>0</th>\n",
              "      <td>9E</td>\n",
              "      <td>Endeavor Air Inc.</td>\n",
              "    </tr>\n",
              "    <tr>\n",
              "      <th>1</th>\n",
              "      <td>AA</td>\n",
              "      <td>American Airlines Inc.</td>\n",
              "    </tr>\n",
              "  </tbody>\n",
              "</table>\n",
              "</div>"
            ],
            "text/plain": [
              "  carrier                    name\n",
              "0      9E       Endeavor Air Inc.\n",
              "1      AA  American Airlines Inc."
            ]
          },
          "metadata": {
            "tags": []
          },
          "execution_count": 60
        }
      ]
    },
    {
      "cell_type": "code",
      "metadata": {
        "colab": {
          "base_uri": "https://localhost:8080/",
          "height": 108
        },
        "id": "mc4Gu78nbSBb",
        "outputId": "207dbe49-86e2-4cdb-aa58-e4b95b273874"
      },
      "source": [
        "#Information about the airports, we will be using the city where the airports are located\n",
        "airports2.head(2)"
      ],
      "execution_count": 61,
      "outputs": [
        {
          "output_type": "execute_result",
          "data": {
            "text/html": [
              "<div>\n",
              "<style scoped>\n",
              "    .dataframe tbody tr th:only-of-type {\n",
              "        vertical-align: middle;\n",
              "    }\n",
              "\n",
              "    .dataframe tbody tr th {\n",
              "        vertical-align: top;\n",
              "    }\n",
              "\n",
              "    .dataframe thead th {\n",
              "        text-align: right;\n",
              "    }\n",
              "</style>\n",
              "<table border=\"1\" class=\"dataframe\">\n",
              "  <thead>\n",
              "    <tr style=\"text-align: right;\">\n",
              "      <th></th>\n",
              "      <th>IATA_CODE</th>\n",
              "      <th>AIRPORT</th>\n",
              "      <th>CITY</th>\n",
              "      <th>STATE</th>\n",
              "      <th>COUNTRY</th>\n",
              "      <th>LATITUDE</th>\n",
              "      <th>LONGITUDE</th>\n",
              "    </tr>\n",
              "  </thead>\n",
              "  <tbody>\n",
              "    <tr>\n",
              "      <th>0</th>\n",
              "      <td>ABE</td>\n",
              "      <td>Lehigh Valley International Airport</td>\n",
              "      <td>Allentown</td>\n",
              "      <td>PA</td>\n",
              "      <td>USA</td>\n",
              "      <td>40.65236</td>\n",
              "      <td>-75.4404</td>\n",
              "    </tr>\n",
              "    <tr>\n",
              "      <th>1</th>\n",
              "      <td>ABI</td>\n",
              "      <td>Abilene Regional Airport</td>\n",
              "      <td>Abilene</td>\n",
              "      <td>TX</td>\n",
              "      <td>USA</td>\n",
              "      <td>32.41132</td>\n",
              "      <td>-99.6819</td>\n",
              "    </tr>\n",
              "  </tbody>\n",
              "</table>\n",
              "</div>"
            ],
            "text/plain": [
              "  IATA_CODE                              AIRPORT  ...  LATITUDE LONGITUDE\n",
              "0       ABE  Lehigh Valley International Airport  ...  40.65236  -75.4404\n",
              "1       ABI             Abilene Regional Airport  ...  32.41132  -99.6819\n",
              "\n",
              "[2 rows x 7 columns]"
            ]
          },
          "metadata": {
            "tags": []
          },
          "execution_count": 61
        }
      ]
    },
    {
      "cell_type": "code",
      "metadata": {
        "colab": {
          "base_uri": "https://localhost:8080/"
        },
        "id": "PLBfM1cvbSBc",
        "outputId": "83b20d9b-51ba-4a43-e365-f8b3a22e6a4c"
      },
      "source": [
        "flights.info()"
      ],
      "execution_count": 62,
      "outputs": [
        {
          "output_type": "stream",
          "text": [
            "<class 'pandas.core.frame.DataFrame'>\n",
            "RangeIndex: 5819079 entries, 0 to 5819078\n",
            "Data columns (total 31 columns):\n",
            " #   Column               Dtype  \n",
            "---  ------               -----  \n",
            " 0   YEAR                 int64  \n",
            " 1   MONTH                int64  \n",
            " 2   DAY                  int64  \n",
            " 3   DAY_OF_WEEK          int64  \n",
            " 4   AIRLINE              object \n",
            " 5   FLIGHT_NUMBER        int64  \n",
            " 6   TAIL_NUMBER          object \n",
            " 7   ORIGIN_AIRPORT       object \n",
            " 8   DESTINATION_AIRPORT  object \n",
            " 9   SCHEDULED_DEPARTURE  int64  \n",
            " 10  DEPARTURE_TIME       float64\n",
            " 11  DEPARTURE_DELAY      float64\n",
            " 12  TAXI_OUT             float64\n",
            " 13  WHEELS_OFF           float64\n",
            " 14  SCHEDULED_TIME       float64\n",
            " 15  ELAPSED_TIME         float64\n",
            " 16  AIR_TIME             float64\n",
            " 17  DISTANCE             int64  \n",
            " 18  WHEELS_ON            float64\n",
            " 19  TAXI_IN              float64\n",
            " 20  SCHEDULED_ARRIVAL    int64  \n",
            " 21  ARRIVAL_TIME         float64\n",
            " 22  ARRIVAL_DELAY        float64\n",
            " 23  DIVERTED             int64  \n",
            " 24  CANCELLED            int64  \n",
            " 25  CANCELLATION_REASON  object \n",
            " 26  AIR_SYSTEM_DELAY     float64\n",
            " 27  SECURITY_DELAY       float64\n",
            " 28  AIRLINE_DELAY        float64\n",
            " 29  LATE_AIRCRAFT_DELAY  float64\n",
            " 30  WEATHER_DELAY        float64\n",
            "dtypes: float64(16), int64(10), object(5)\n",
            "memory usage: 1.3+ GB\n"
          ],
          "name": "stdout"
        }
      ]
    },
    {
      "cell_type": "markdown",
      "metadata": {
        "id": "nHCw-YELbSBc"
      },
      "source": [
        "The dataset is quite big, with almost 6 million entries and weighting 1.3GB in memory\n",
        "\n",
        "Most columns have very little nonnull values, which is not a problem for us, since we could remove that small percentage, but the columns after CANCELLATION_REASON are mostly null, so we will get rid of them completely."
      ]
    },
    {
      "cell_type": "code",
      "metadata": {
        "colab": {
          "base_uri": "https://localhost:8080/",
          "height": 978
        },
        "id": "kMbZ2ju7bSBc",
        "outputId": "f490eb24-c2fd-4d34-c98a-0983d0486b33"
      },
      "source": [
        "flights.head().T"
      ],
      "execution_count": 63,
      "outputs": [
        {
          "output_type": "execute_result",
          "data": {
            "text/html": [
              "<div>\n",
              "<style scoped>\n",
              "    .dataframe tbody tr th:only-of-type {\n",
              "        vertical-align: middle;\n",
              "    }\n",
              "\n",
              "    .dataframe tbody tr th {\n",
              "        vertical-align: top;\n",
              "    }\n",
              "\n",
              "    .dataframe thead th {\n",
              "        text-align: right;\n",
              "    }\n",
              "</style>\n",
              "<table border=\"1\" class=\"dataframe\">\n",
              "  <thead>\n",
              "    <tr style=\"text-align: right;\">\n",
              "      <th></th>\n",
              "      <th>0</th>\n",
              "      <th>1</th>\n",
              "      <th>2</th>\n",
              "      <th>3</th>\n",
              "      <th>4</th>\n",
              "    </tr>\n",
              "  </thead>\n",
              "  <tbody>\n",
              "    <tr>\n",
              "      <th>YEAR</th>\n",
              "      <td>2015</td>\n",
              "      <td>2015</td>\n",
              "      <td>2015</td>\n",
              "      <td>2015</td>\n",
              "      <td>2015</td>\n",
              "    </tr>\n",
              "    <tr>\n",
              "      <th>MONTH</th>\n",
              "      <td>1</td>\n",
              "      <td>1</td>\n",
              "      <td>1</td>\n",
              "      <td>1</td>\n",
              "      <td>1</td>\n",
              "    </tr>\n",
              "    <tr>\n",
              "      <th>DAY</th>\n",
              "      <td>1</td>\n",
              "      <td>1</td>\n",
              "      <td>1</td>\n",
              "      <td>1</td>\n",
              "      <td>1</td>\n",
              "    </tr>\n",
              "    <tr>\n",
              "      <th>DAY_OF_WEEK</th>\n",
              "      <td>4</td>\n",
              "      <td>4</td>\n",
              "      <td>4</td>\n",
              "      <td>4</td>\n",
              "      <td>4</td>\n",
              "    </tr>\n",
              "    <tr>\n",
              "      <th>AIRLINE</th>\n",
              "      <td>AS</td>\n",
              "      <td>AA</td>\n",
              "      <td>US</td>\n",
              "      <td>AA</td>\n",
              "      <td>AS</td>\n",
              "    </tr>\n",
              "    <tr>\n",
              "      <th>FLIGHT_NUMBER</th>\n",
              "      <td>98</td>\n",
              "      <td>2336</td>\n",
              "      <td>840</td>\n",
              "      <td>258</td>\n",
              "      <td>135</td>\n",
              "    </tr>\n",
              "    <tr>\n",
              "      <th>TAIL_NUMBER</th>\n",
              "      <td>N407AS</td>\n",
              "      <td>N3KUAA</td>\n",
              "      <td>N171US</td>\n",
              "      <td>N3HYAA</td>\n",
              "      <td>N527AS</td>\n",
              "    </tr>\n",
              "    <tr>\n",
              "      <th>ORIGIN_AIRPORT</th>\n",
              "      <td>ANC</td>\n",
              "      <td>LAX</td>\n",
              "      <td>SFO</td>\n",
              "      <td>LAX</td>\n",
              "      <td>SEA</td>\n",
              "    </tr>\n",
              "    <tr>\n",
              "      <th>DESTINATION_AIRPORT</th>\n",
              "      <td>SEA</td>\n",
              "      <td>PBI</td>\n",
              "      <td>CLT</td>\n",
              "      <td>MIA</td>\n",
              "      <td>ANC</td>\n",
              "    </tr>\n",
              "    <tr>\n",
              "      <th>SCHEDULED_DEPARTURE</th>\n",
              "      <td>5</td>\n",
              "      <td>10</td>\n",
              "      <td>20</td>\n",
              "      <td>20</td>\n",
              "      <td>25</td>\n",
              "    </tr>\n",
              "    <tr>\n",
              "      <th>DEPARTURE_TIME</th>\n",
              "      <td>2354</td>\n",
              "      <td>2</td>\n",
              "      <td>18</td>\n",
              "      <td>15</td>\n",
              "      <td>24</td>\n",
              "    </tr>\n",
              "    <tr>\n",
              "      <th>DEPARTURE_DELAY</th>\n",
              "      <td>-11</td>\n",
              "      <td>-8</td>\n",
              "      <td>-2</td>\n",
              "      <td>-5</td>\n",
              "      <td>-1</td>\n",
              "    </tr>\n",
              "    <tr>\n",
              "      <th>TAXI_OUT</th>\n",
              "      <td>21</td>\n",
              "      <td>12</td>\n",
              "      <td>16</td>\n",
              "      <td>15</td>\n",
              "      <td>11</td>\n",
              "    </tr>\n",
              "    <tr>\n",
              "      <th>WHEELS_OFF</th>\n",
              "      <td>15</td>\n",
              "      <td>14</td>\n",
              "      <td>34</td>\n",
              "      <td>30</td>\n",
              "      <td>35</td>\n",
              "    </tr>\n",
              "    <tr>\n",
              "      <th>SCHEDULED_TIME</th>\n",
              "      <td>205</td>\n",
              "      <td>280</td>\n",
              "      <td>286</td>\n",
              "      <td>285</td>\n",
              "      <td>235</td>\n",
              "    </tr>\n",
              "    <tr>\n",
              "      <th>ELAPSED_TIME</th>\n",
              "      <td>194</td>\n",
              "      <td>279</td>\n",
              "      <td>293</td>\n",
              "      <td>281</td>\n",
              "      <td>215</td>\n",
              "    </tr>\n",
              "    <tr>\n",
              "      <th>AIR_TIME</th>\n",
              "      <td>169</td>\n",
              "      <td>263</td>\n",
              "      <td>266</td>\n",
              "      <td>258</td>\n",
              "      <td>199</td>\n",
              "    </tr>\n",
              "    <tr>\n",
              "      <th>DISTANCE</th>\n",
              "      <td>1448</td>\n",
              "      <td>2330</td>\n",
              "      <td>2296</td>\n",
              "      <td>2342</td>\n",
              "      <td>1448</td>\n",
              "    </tr>\n",
              "    <tr>\n",
              "      <th>WHEELS_ON</th>\n",
              "      <td>404</td>\n",
              "      <td>737</td>\n",
              "      <td>800</td>\n",
              "      <td>748</td>\n",
              "      <td>254</td>\n",
              "    </tr>\n",
              "    <tr>\n",
              "      <th>TAXI_IN</th>\n",
              "      <td>4</td>\n",
              "      <td>4</td>\n",
              "      <td>11</td>\n",
              "      <td>8</td>\n",
              "      <td>5</td>\n",
              "    </tr>\n",
              "    <tr>\n",
              "      <th>SCHEDULED_ARRIVAL</th>\n",
              "      <td>430</td>\n",
              "      <td>750</td>\n",
              "      <td>806</td>\n",
              "      <td>805</td>\n",
              "      <td>320</td>\n",
              "    </tr>\n",
              "    <tr>\n",
              "      <th>ARRIVAL_TIME</th>\n",
              "      <td>408</td>\n",
              "      <td>741</td>\n",
              "      <td>811</td>\n",
              "      <td>756</td>\n",
              "      <td>259</td>\n",
              "    </tr>\n",
              "    <tr>\n",
              "      <th>ARRIVAL_DELAY</th>\n",
              "      <td>-22</td>\n",
              "      <td>-9</td>\n",
              "      <td>5</td>\n",
              "      <td>-9</td>\n",
              "      <td>-21</td>\n",
              "    </tr>\n",
              "    <tr>\n",
              "      <th>DIVERTED</th>\n",
              "      <td>0</td>\n",
              "      <td>0</td>\n",
              "      <td>0</td>\n",
              "      <td>0</td>\n",
              "      <td>0</td>\n",
              "    </tr>\n",
              "    <tr>\n",
              "      <th>CANCELLED</th>\n",
              "      <td>0</td>\n",
              "      <td>0</td>\n",
              "      <td>0</td>\n",
              "      <td>0</td>\n",
              "      <td>0</td>\n",
              "    </tr>\n",
              "    <tr>\n",
              "      <th>CANCELLATION_REASON</th>\n",
              "      <td>NaN</td>\n",
              "      <td>NaN</td>\n",
              "      <td>NaN</td>\n",
              "      <td>NaN</td>\n",
              "      <td>NaN</td>\n",
              "    </tr>\n",
              "    <tr>\n",
              "      <th>AIR_SYSTEM_DELAY</th>\n",
              "      <td>NaN</td>\n",
              "      <td>NaN</td>\n",
              "      <td>NaN</td>\n",
              "      <td>NaN</td>\n",
              "      <td>NaN</td>\n",
              "    </tr>\n",
              "    <tr>\n",
              "      <th>SECURITY_DELAY</th>\n",
              "      <td>NaN</td>\n",
              "      <td>NaN</td>\n",
              "      <td>NaN</td>\n",
              "      <td>NaN</td>\n",
              "      <td>NaN</td>\n",
              "    </tr>\n",
              "    <tr>\n",
              "      <th>AIRLINE_DELAY</th>\n",
              "      <td>NaN</td>\n",
              "      <td>NaN</td>\n",
              "      <td>NaN</td>\n",
              "      <td>NaN</td>\n",
              "      <td>NaN</td>\n",
              "    </tr>\n",
              "    <tr>\n",
              "      <th>LATE_AIRCRAFT_DELAY</th>\n",
              "      <td>NaN</td>\n",
              "      <td>NaN</td>\n",
              "      <td>NaN</td>\n",
              "      <td>NaN</td>\n",
              "      <td>NaN</td>\n",
              "    </tr>\n",
              "    <tr>\n",
              "      <th>WEATHER_DELAY</th>\n",
              "      <td>NaN</td>\n",
              "      <td>NaN</td>\n",
              "      <td>NaN</td>\n",
              "      <td>NaN</td>\n",
              "      <td>NaN</td>\n",
              "    </tr>\n",
              "  </tbody>\n",
              "</table>\n",
              "</div>"
            ],
            "text/plain": [
              "                          0       1       2       3       4\n",
              "YEAR                   2015    2015    2015    2015    2015\n",
              "MONTH                     1       1       1       1       1\n",
              "DAY                       1       1       1       1       1\n",
              "DAY_OF_WEEK               4       4       4       4       4\n",
              "AIRLINE                  AS      AA      US      AA      AS\n",
              "FLIGHT_NUMBER            98    2336     840     258     135\n",
              "TAIL_NUMBER          N407AS  N3KUAA  N171US  N3HYAA  N527AS\n",
              "ORIGIN_AIRPORT          ANC     LAX     SFO     LAX     SEA\n",
              "DESTINATION_AIRPORT     SEA     PBI     CLT     MIA     ANC\n",
              "SCHEDULED_DEPARTURE       5      10      20      20      25\n",
              "DEPARTURE_TIME         2354       2      18      15      24\n",
              "DEPARTURE_DELAY         -11      -8      -2      -5      -1\n",
              "TAXI_OUT                 21      12      16      15      11\n",
              "WHEELS_OFF               15      14      34      30      35\n",
              "SCHEDULED_TIME          205     280     286     285     235\n",
              "ELAPSED_TIME            194     279     293     281     215\n",
              "AIR_TIME                169     263     266     258     199\n",
              "DISTANCE               1448    2330    2296    2342    1448\n",
              "WHEELS_ON               404     737     800     748     254\n",
              "TAXI_IN                   4       4      11       8       5\n",
              "SCHEDULED_ARRIVAL       430     750     806     805     320\n",
              "ARRIVAL_TIME            408     741     811     756     259\n",
              "ARRIVAL_DELAY           -22      -9       5      -9     -21\n",
              "DIVERTED                  0       0       0       0       0\n",
              "CANCELLED                 0       0       0       0       0\n",
              "CANCELLATION_REASON     NaN     NaN     NaN     NaN     NaN\n",
              "AIR_SYSTEM_DELAY        NaN     NaN     NaN     NaN     NaN\n",
              "SECURITY_DELAY          NaN     NaN     NaN     NaN     NaN\n",
              "AIRLINE_DELAY           NaN     NaN     NaN     NaN     NaN\n",
              "LATE_AIRCRAFT_DELAY     NaN     NaN     NaN     NaN     NaN\n",
              "WEATHER_DELAY           NaN     NaN     NaN     NaN     NaN"
            ]
          },
          "metadata": {
            "tags": []
          },
          "execution_count": 63
        }
      ]
    },
    {
      "cell_type": "markdown",
      "metadata": {
        "id": "xmy_5UZVbSBc"
      },
      "source": [
        "There are some interesting facts about this dataset, for instance, the date of departure is represented on three different columns, \"Year\", \"Month\" and \"Day\" which we will later on convert to a datatime element, the departure time is also expressed with 2 to 4 digits, we will leave it as it is."
      ]
    },
    {
      "cell_type": "markdown",
      "metadata": {
        "id": "OXeTDcsCbSBd"
      },
      "source": [
        "## MERGING THE DATAFRAMES"
      ]
    },
    {
      "cell_type": "markdown",
      "metadata": {
        "id": "Sj-AGE8NbSBd"
      },
      "source": [
        "## We will merge the different datasets to get the information we need."
      ]
    },
    {
      "cell_type": "code",
      "metadata": {
        "id": "JBC6d6YBbSBd"
      },
      "source": [
        "flights = pd.merge(flights,airports[[\"faa\",\"name\"]],left_on=\"ORIGIN_AIRPORT\",right_on=\"faa\",how=\"left\")\n",
        "flights.rename(columns={'name': 'origin_airport'}, inplace=True)\n",
        "flights = flights.drop(\"faa\",axis=1)"
      ],
      "execution_count": 64,
      "outputs": []
    },
    {
      "cell_type": "code",
      "metadata": {
        "id": "nWJQ3LbQbSBd"
      },
      "source": [
        "flights = pd.merge(flights,airports2[[\"IATA_CODE\",\"CITY\"]],left_on=\"ORIGIN_AIRPORT\",right_on=\"IATA_CODE\",how=\"left\")\n",
        "flights.rename(columns={'name': 'city'}, inplace=True)\n",
        "flights = flights.drop(\"IATA_CODE\",axis=1)"
      ],
      "execution_count": 65,
      "outputs": []
    },
    {
      "cell_type": "code",
      "metadata": {
        "id": "38_LNBP4bSBe"
      },
      "source": [
        "flights = pd.merge(flights,planes[[\"tailnum\",\"manufacturer\"]],left_on=\"TAIL_NUMBER\",right_on=\"tailnum\",how=\"left\")\n",
        "flights = flights.drop(\"tailnum\",axis=1)"
      ],
      "execution_count": 66,
      "outputs": []
    },
    {
      "cell_type": "code",
      "metadata": {
        "id": "xOuZv3olbSBe"
      },
      "source": [
        "flights = pd.merge(flights,airlines,left_on=\"AIRLINE\",right_on=\"carrier\",how=\"left\")\n",
        "flights = flights.drop(\"carrier\",axis=1)\n",
        "flights.rename(columns={'name': 'AIRLINE_NAME'}, inplace=True)"
      ],
      "execution_count": 67,
      "outputs": []
    },
    {
      "cell_type": "markdown",
      "metadata": {
        "id": "7y0kydx3bSBe"
      },
      "source": [
        "## Creating new columns\n",
        "We will create two columns, a boolean delay which tells us wether the plane was delayed or not, and another one which tell us the delay time, we have to consider delay times can be negative, but we don't care about those, we will consider the negative delay times as no delay"
      ]
    },
    {
      "cell_type": "code",
      "metadata": {
        "id": "Mo4t5PFgbSBe"
      },
      "source": [
        "flights[\"Delay\"] = flights[\"ARRIVAL_DELAY\"].apply(lambda x: True if x>0 else False)\n",
        "flights[\"Delay_time\"] = flights[\"ARRIVAL_DELAY\"].apply(lambda x: x if x>0 else 0)"
      ],
      "execution_count": 68,
      "outputs": []
    },
    {
      "cell_type": "code",
      "metadata": {
        "id": "DiqPvUSDbSBe"
      },
      "source": [
        "import datetime\n",
        "import math"
      ],
      "execution_count": 69,
      "outputs": []
    },
    {
      "cell_type": "markdown",
      "metadata": {
        "id": "g4607ih1bSBf"
      },
      "source": [
        "## Dealing with dates \n",
        "Converting the the date columns into a datatime element and then a dayoftheyear, dayoftheyear gives us a number for each day of the year, which is gonna be useful to categorize each day."
      ]
    },
    {
      "cell_type": "code",
      "metadata": {
        "id": "tjXXl5xEbSBf"
      },
      "source": [
        "flights[\"departure_day\"] = flights[\"YEAR\"]*10000+flights[\"MONTH\"]*100+flights[\"DAY\"]\n",
        "flights[\"departure_day\"] = pd.to_datetime(flights[\"departure_day\"], format='%Y%m%d')\n",
        "flights[\"departure_day\"] = flights[\"departure_day\"].dt.dayofyear"
      ],
      "execution_count": 70,
      "outputs": []
    },
    {
      "cell_type": "code",
      "metadata": {
        "id": "oHjW46LJbSBf"
      },
      "source": [
        "#We use this function to convert the time into a timedelta element\n",
        "def convert_timedelta(string):\n",
        "    if math.isnan(string): return np.nan\n",
        "    string = str(int(string))\n",
        "    if len(string) < 3: return \"00\" + \":\" + string[-2:] + \":00\"\n",
        "    return string[:-2] + \":\" + string[-2:] + \":00\""
      ],
      "execution_count": 71,
      "outputs": []
    },
    {
      "cell_type": "code",
      "metadata": {
        "id": "4svImPrZbSBf"
      },
      "source": [
        "flights[\"dep_time\"] = flights[\"DEPARTURE_TIME\"].apply(convert_timedelta)\n",
        "flights[\"dep_time\"] = pd.to_timedelta(flights[\"dep_time\"])"
      ],
      "execution_count": 72,
      "outputs": []
    },
    {
      "cell_type": "code",
      "metadata": {
        "id": "3MZKEr4AbSBg"
      },
      "source": [
        "flights[\"arr_time\"] = flights[\"SCHEDULED_ARRIVAL\"].apply(convert_timedelta)\n",
        "flights[\"arr_time\"] = pd.to_timedelta(flights[\"arr_time\"])"
      ],
      "execution_count": 73,
      "outputs": []
    },
    {
      "cell_type": "markdown",
      "metadata": {
        "id": "SAcT3cQRbSBg"
      },
      "source": [
        "## With all this information, we will do some data analysis to get some interesting information."
      ]
    },
    {
      "cell_type": "code",
      "metadata": {
        "colab": {
          "base_uri": "https://localhost:8080/"
        },
        "id": "4Q8nt0CvbSBg",
        "outputId": "d3e29398-f288-4264-dc39-c29ef9a5c7e1"
      },
      "source": [
        "flights[\"Delay\"].value_counts(normalize=True)"
      ],
      "execution_count": 74,
      "outputs": [
        {
          "output_type": "execute_result",
          "data": {
            "text/plain": [
              "False    0.64137\n",
              "True     0.35863\n",
              "Name: Delay, dtype: float64"
            ]
          },
          "metadata": {
            "tags": []
          },
          "execution_count": 74
        }
      ]
    },
    {
      "cell_type": "markdown",
      "metadata": {
        "id": "zut_v02hbSBg"
      },
      "source": [
        "### Percentage of flights with some delay"
      ]
    },
    {
      "cell_type": "code",
      "metadata": {
        "colab": {
          "base_uri": "https://localhost:8080/",
          "height": 299
        },
        "id": "12YBLYRMbSBg",
        "outputId": "4992e15a-509e-471c-bd24-57328fae8413"
      },
      "source": [
        "flights[\"Delay\"].value_counts(normalize=True).plot.bar()"
      ],
      "execution_count": 75,
      "outputs": [
        {
          "output_type": "execute_result",
          "data": {
            "text/plain": [
              "<matplotlib.axes._subplots.AxesSubplot at 0x7f8ed142b7f0>"
            ]
          },
          "metadata": {
            "tags": []
          },
          "execution_count": 75
        },
        {
          "output_type": "display_data",
          "data": {
            "image/png": "[encoded data removed]",
            "text/plain": [
              "<Figure size 432x288 with 1 Axes>"
            ]
          },
          "metadata": {
            "tags": [],
            "needs_background": "light"
          }
        }
      ]
    },
    {
      "cell_type": "markdown",
      "metadata": {
        "id": "qCSpnDYnbSBh"
      },
      "source": [
        "#### Around 35% of all flights have some delay"
      ]
    },
    {
      "cell_type": "markdown",
      "metadata": {
        "id": "IYQQQ29tbSBh"
      },
      "source": [
        "### Percentage of flights delayed by airline"
      ]
    },
    {
      "cell_type": "code",
      "metadata": {
        "colab": {
          "base_uri": "https://localhost:8080/",
          "height": 402
        },
        "id": "ZU5i63QkbSBh",
        "outputId": "df8bfe53-effd-43bd-e420-60347ea29693"
      },
      "source": [
        "flights.groupby(\"AIRLINE_NAME\").mean()[\"Delay\"].sort_values(ascending=False).plot.bar()"
      ],
      "execution_count": 76,
      "outputs": [
        {
          "output_type": "execute_result",
          "data": {
            "text/plain": [
              "<matplotlib.axes._subplots.AxesSubplot at 0x7f8eef0cd320>"
            ]
          },
          "metadata": {
            "tags": []
          },
          "execution_count": 76
        },
        {
          "output_type": "display_data",
          "data": {
            "image/png": "[encoded data removed]",
            "text/plain": [
              "<Figure size 432x288 with 1 Axes>"
            ]
          },
          "metadata": {
            "tags": [],
            "needs_background": "light"
          }
        }
      ]
    },
    {
      "cell_type": "markdown",
      "metadata": {
        "id": "zeNpwbbcbSBi"
      },
      "source": [
        "### Which airlines have the most flights?"
      ]
    },
    {
      "cell_type": "code",
      "metadata": {
        "colab": {
          "base_uri": "https://localhost:8080/",
          "height": 398
        },
        "id": "8lHHu6W5bSBi",
        "outputId": "7d01c1d0-e9c8-4a2b-a2da-a95217cff6cb"
      },
      "source": [
        "flights[\"AIRLINE_NAME\"].value_counts().plot.bar()"
      ],
      "execution_count": 78,
      "outputs": [
        {
          "output_type": "execute_result",
          "data": {
            "text/plain": [
              "<matplotlib.axes._subplots.AxesSubplot at 0x7f8eeca0a518>"
            ]
          },
          "metadata": {
            "tags": []
          },
          "execution_count": 78
        },
        {
          "output_type": "display_data",
          "data": {
            "image/png": "[encoded data removed]",
            "text/plain": [
              "<Figure size 432x288 with 1 Axes>"
            ]
          },
          "metadata": {
            "tags": [],
            "needs_background": "light"
          }
        }
      ]
    },
    {
      "cell_type": "markdown",
      "metadata": {
        "id": "vNs5jKoIbSBi"
      },
      "source": [
        "### Which cities have the most traffic?"
      ]
    },
    {
      "cell_type": "code",
      "metadata": {
        "colab": {
          "base_uri": "https://localhost:8080/",
          "height": 360
        },
        "id": "48bD703AbSBi",
        "outputId": "7e9f67f7-9ce6-4a3e-dc76-8a7c6edeaf7c"
      },
      "source": [
        "flights[\"CITY\"].value_counts(normalize=True)[0:15].plot.bar()"
      ],
      "execution_count": 79,
      "outputs": [
        {
          "output_type": "execute_result",
          "data": {
            "text/plain": [
              "<matplotlib.axes._subplots.AxesSubplot at 0x7f8eeea9dcc0>"
            ]
          },
          "metadata": {
            "tags": []
          },
          "execution_count": 79
        },
        {
          "output_type": "display_data",
          "data": {
            "image/png": "[encoded data removed]",
            "text/plain": [
              "<Figure size 432x288 with 1 Axes>"
            ]
          },
          "metadata": {
            "tags": [],
            "needs_background": "light"
          }
        }
      ]
    },
    {
      "cell_type": "markdown",
      "metadata": {
        "id": "QiNG56H1bSBi"
      },
      "source": [
        "### Which day of the week has the most traffic?"
      ]
    },
    {
      "cell_type": "code",
      "metadata": {
        "colab": {
          "base_uri": "https://localhost:8080/",
          "height": 280
        },
        "id": "8Tz2t8cKbSBj",
        "outputId": "0bb40d5a-09e3-4941-f930-6bacd65eb829"
      },
      "source": [
        "flights[\"DAY_OF_WEEK\"].value_counts(normalize=True).sort_index().plot.bar()"
      ],
      "execution_count": 80,
      "outputs": [
        {
          "output_type": "execute_result",
          "data": {
            "text/plain": [
              "<matplotlib.axes._subplots.AxesSubplot at 0x7f8ed2f2ef28>"
            ]
          },
          "metadata": {
            "tags": []
          },
          "execution_count": 80
        },
        {
          "output_type": "display_data",
          "data": {
            "image/png": "[encoded data removed]",
            "text/plain": [
              "<Figure size 432x288 with 1 Axes>"
            ]
          },
          "metadata": {
            "tags": [],
            "needs_background": "light"
          }
        }
      ]
    },
    {
      "cell_type": "markdown",
      "metadata": {
        "id": "8sfQAgJabSBj"
      },
      "source": [
        "### Which day of the week has the most delays?"
      ]
    },
    {
      "cell_type": "code",
      "metadata": {
        "colab": {
          "base_uri": "https://localhost:8080/",
          "height": 282
        },
        "id": "Bnewr3s2bSBj",
        "outputId": "3bc48255-3808-4b14-ffc2-6a0f69ab191c"
      },
      "source": [
        "(flights[flights[\"Delay\"] == True][\"DAY_OF_WEEK\"].value_counts().sort_index()/flights[\"DAY_OF_WEEK\"].value_counts().sort_index()).plot.bar()"
      ],
      "execution_count": 81,
      "outputs": [
        {
          "output_type": "execute_result",
          "data": {
            "text/plain": [
              "<matplotlib.axes._subplots.AxesSubplot at 0x7f8eedb14470>"
            ]
          },
          "metadata": {
            "tags": []
          },
          "execution_count": 81
        },
        {
          "output_type": "display_data",
          "data": {
            "image/png": "[encoded data removed]",
            "text/plain": [
              "<Figure size 432x288 with 1 Axes>"
            ]
          },
          "metadata": {
            "tags": [],
            "needs_background": "light"
          }
        }
      ]
    },
    {
      "cell_type": "markdown",
      "metadata": {
        "id": "yOO4pspTbSBk"
      },
      "source": [
        "### Which month has the most delays?"
      ]
    },
    {
      "cell_type": "code",
      "metadata": {
        "colab": {
          "base_uri": "https://localhost:8080/",
          "height": 286
        },
        "id": "fTkExepSbSBk",
        "outputId": "47de4a28-8045-4e71-a0a6-a5e2d5f9d602"
      },
      "source": [
        "(flights[flights[\"Delay\"] == True][\"MONTH\"].value_counts().sort_index()/flights[\"MONTH\"].value_counts().sort_index()).plot.bar()"
      ],
      "execution_count": 82,
      "outputs": [
        {
          "output_type": "execute_result",
          "data": {
            "text/plain": [
              "<matplotlib.axes._subplots.AxesSubplot at 0x7f8eedf9c4e0>"
            ]
          },
          "metadata": {
            "tags": []
          },
          "execution_count": 82
        },
        {
          "output_type": "display_data",
          "data": {
            "image/png": "[encoded data removed]",
            "text/plain": [
              "<Figure size 432x288 with 1 Axes>"
            ]
          },
          "metadata": {
            "tags": [],
            "needs_background": "light"
          }
        }
      ]
    },
    {
      "cell_type": "markdown",
      "metadata": {
        "id": "lc_5Cwf2bSBk"
      },
      "source": [
        "#### Wednesday seems to be the day with the most delays and July the month with the most delays."
      ]
    },
    {
      "cell_type": "markdown",
      "metadata": {
        "id": "INQZAcVfbSBk"
      },
      "source": [
        "### Which month has the most traffic?"
      ]
    },
    {
      "cell_type": "code",
      "metadata": {
        "colab": {
          "base_uri": "https://localhost:8080/",
          "height": 286
        },
        "id": "HmNPKMWtbSBl",
        "outputId": "0f902fbe-1fc4-4706-90cc-0875bc3ae964"
      },
      "source": [
        "flights[\"MONTH\"].value_counts(normalize=True).sort_index().plot.bar()"
      ],
      "execution_count": 83,
      "outputs": [
        {
          "output_type": "execute_result",
          "data": {
            "text/plain": [
              "<matplotlib.axes._subplots.AxesSubplot at 0x7f8eed843b00>"
            ]
          },
          "metadata": {
            "tags": []
          },
          "execution_count": 83
        },
        {
          "output_type": "display_data",
          "data": {
            "image/png": "[encoded data removed]",
            "text/plain": [
              "<Figure size 432x288 with 1 Axes>"
            ]
          },
          "metadata": {
            "tags": [],
            "needs_background": "light"
          }
        }
      ]
    },
    {
      "cell_type": "markdown",
      "metadata": {
        "id": "T3GgPs9nbSBl"
      },
      "source": [
        "### Histogram of the delay times in minutes."
      ]
    },
    {
      "cell_type": "code",
      "metadata": {
        "colab": {
          "base_uri": "https://localhost:8080/",
          "height": 283
        },
        "id": "P1zgrd1ubSBl",
        "outputId": "dfd3da1b-c76c-49c1-c52a-0c6e23ca1151"
      },
      "source": [
        "flights[(flights[\"Delay\"] == True) & (flights[\"Delay_time\"] < 200)][\"Delay_time\"].hist(bins=100)"
      ],
      "execution_count": 84,
      "outputs": [
        {
          "output_type": "execute_result",
          "data": {
            "text/plain": [
              "<matplotlib.axes._subplots.AxesSubplot at 0x7f8eee467c88>"
            ]
          },
          "metadata": {
            "tags": []
          },
          "execution_count": 84
        },
        {
          "output_type": "display_data",
          "data": {
            "image/png": "[encoded data removed]",
            "text/plain": [
              "<Figure size 432x288 with 1 Axes>"
            ]
          },
          "metadata": {
            "tags": [],
            "needs_background": "light"
          }
        }
      ]
    },
    {
      "cell_type": "markdown",
      "metadata": {
        "id": "glyysJupbSBl"
      },
      "source": [
        "### The most common departure times."
      ]
    },
    {
      "cell_type": "code",
      "metadata": {
        "colab": {
          "base_uri": "https://localhost:8080/",
          "height": 296
        },
        "id": "lMhpMls0bSBm",
        "outputId": "854896a9-2b56-4b2f-b6f8-2a20bed470d3"
      },
      "source": [
        "flights[\"dep_time\"].dt.components[\"hours\"].value_counts().sort_index().plot.bar()"
      ],
      "execution_count": 85,
      "outputs": [
        {
          "output_type": "execute_result",
          "data": {
            "text/plain": [
              "<matplotlib.axes._subplots.AxesSubplot at 0x7f8eecd3a438>"
            ]
          },
          "metadata": {
            "tags": []
          },
          "execution_count": 85
        },
        {
          "output_type": "display_data",
          "data": {
            "image/png": "[encoded data removed]",
            "text/plain": [
              "<Figure size 432x288 with 1 Axes>"
            ]
          },
          "metadata": {
            "tags": [],
            "needs_background": "light"
          }
        }
      ]
    },
    {
      "cell_type": "markdown",
      "metadata": {
        "id": "pPLYm-JlpHS6"
      },
      "source": [
        "### FLights delayed by departure time"
      ]
    },
    {
      "cell_type": "code",
      "metadata": {
        "colab": {
          "base_uri": "https://localhost:8080/",
          "height": 286
        },
        "id": "M_AMpxPtbSBm",
        "outputId": "5b1b58a4-2982-4250-e6ce-4b1ebc0ed9e9"
      },
      "source": [
        "(flights[flights[\"Delay\"] == True][\"dep_time\"].dt.components[\"hours\"].value_counts()/flights[\"dep_time\"].dt.components[\"hours\"].value_counts()).sort_index().plot.bar()"
      ],
      "execution_count": 86,
      "outputs": [
        {
          "output_type": "execute_result",
          "data": {
            "text/plain": [
              "<matplotlib.axes._subplots.AxesSubplot at 0x7f8eef067668>"
            ]
          },
          "metadata": {
            "tags": []
          },
          "execution_count": 86
        },
        {
          "output_type": "display_data",
          "data": {
            "image/png": "[encoded data removed]",
            "text/plain": [
              "<Figure size 432x288 with 1 Axes>"
            ]
          },
          "metadata": {
            "tags": [],
            "needs_background": "light"
          }
        }
      ]
    },
    {
      "cell_type": "markdown",
      "metadata": {
        "id": "XNP1opAKbSBm"
      },
      "source": [
        "There's an interesting trend here, the later into the night a plane departs, the more likely it is to be delayed"
      ]
    },
    {
      "cell_type": "markdown",
      "metadata": {
        "id": "zgd66qKupOLD"
      },
      "source": [
        "### Number of flights by arrival time"
      ]
    },
    {
      "cell_type": "code",
      "metadata": {
        "colab": {
          "base_uri": "https://localhost:8080/",
          "height": 286
        },
        "id": "q5cclCfqbSBn",
        "outputId": "68b5efe3-8a7d-4510-f755-91df8fcdf88f"
      },
      "source": [
        "flights[\"arr_time\"].dt.components[\"hours\"].value_counts().sort_index().plot.bar()"
      ],
      "execution_count": 87,
      "outputs": [
        {
          "output_type": "execute_result",
          "data": {
            "text/plain": [
              "<matplotlib.axes._subplots.AxesSubplot at 0x7f8eee648048>"
            ]
          },
          "metadata": {
            "tags": []
          },
          "execution_count": 87
        },
        {
          "output_type": "display_data",
          "data": {
            "image/png": "[encoded data removed]",
            "text/plain": [
              "<Figure size 432x288 with 1 Axes>"
            ]
          },
          "metadata": {
            "tags": [],
            "needs_background": "light"
          }
        }
      ]
    },
    {
      "cell_type": "markdown",
      "metadata": {
        "id": "vx7UynzHpSXm"
      },
      "source": [
        "### Percentage of flights delayed by arrival time"
      ]
    },
    {
      "cell_type": "code",
      "metadata": {
        "colab": {
          "base_uri": "https://localhost:8080/",
          "height": 286
        },
        "id": "tkWwkU4BbSBn",
        "outputId": "be268549-75e0-4655-9f99-11014e08f6fc"
      },
      "source": [
        "(flights[flights[\"Delay\"] == True][\"arr_time\"].dt.components[\"hours\"].value_counts()/flights[\"arr_time\"].dt.components[\"hours\"].value_counts()).sort_index().plot.bar()"
      ],
      "execution_count": 88,
      "outputs": [
        {
          "output_type": "execute_result",
          "data": {
            "text/plain": [
              "<matplotlib.axes._subplots.AxesSubplot at 0x7f8eec585400>"
            ]
          },
          "metadata": {
            "tags": []
          },
          "execution_count": 88
        },
        {
          "output_type": "display_data",
          "data": {
            "image/png": "[encoded data removed]",
            "text/plain": [
              "<Figure size 432x288 with 1 Axes>"
            ]
          },
          "metadata": {
            "tags": [],
            "needs_background": "light"
          }
        }
      ]
    },
    {
      "cell_type": "markdown",
      "metadata": {
        "id": "ulHcFixFbSBn"
      },
      "source": [
        "## DATA CLEANING"
      ]
    },
    {
      "cell_type": "code",
      "metadata": {
        "colab": {
          "base_uri": "https://localhost:8080/",
          "height": 1000
        },
        "id": "GSEvsD19bSBn",
        "outputId": "bdfc2c68-4a0f-427c-b259-96e9e2bd2ad6"
      },
      "source": [
        "flights.head().T"
      ],
      "execution_count": 89,
      "outputs": [
        {
          "output_type": "execute_result",
          "data": {
            "text/html": [
              "<div>\n",
              "<style scoped>\n",
              "    .dataframe tbody tr th:only-of-type {\n",
              "        vertical-align: middle;\n",
              "    }\n",
              "\n",
              "    .dataframe tbody tr th {\n",
              "        vertical-align: top;\n",
              "    }\n",
              "\n",
              "    .dataframe thead th {\n",
              "        text-align: right;\n",
              "    }\n",
              "</style>\n",
              "<table border=\"1\" class=\"dataframe\">\n",
              "  <thead>\n",
              "    <tr style=\"text-align: right;\">\n",
              "      <th></th>\n",
              "      <th>0</th>\n",
              "      <th>1</th>\n",
              "      <th>2</th>\n",
              "      <th>3</th>\n",
              "      <th>4</th>\n",
              "    </tr>\n",
              "  </thead>\n",
              "  <tbody>\n",
              "    <tr>\n",
              "      <th>YEAR</th>\n",
              "      <td>2015</td>\n",
              "      <td>2015</td>\n",
              "      <td>2015</td>\n",
              "      <td>2015</td>\n",
              "      <td>2015</td>\n",
              "    </tr>\n",
              "    <tr>\n",
              "      <th>MONTH</th>\n",
              "      <td>1</td>\n",
              "      <td>1</td>\n",
              "      <td>1</td>\n",
              "      <td>1</td>\n",
              "      <td>1</td>\n",
              "    </tr>\n",
              "    <tr>\n",
              "      <th>DAY</th>\n",
              "      <td>1</td>\n",
              "      <td>1</td>\n",
              "      <td>1</td>\n",
              "      <td>1</td>\n",
              "      <td>1</td>\n",
              "    </tr>\n",
              "    <tr>\n",
              "      <th>DAY_OF_WEEK</th>\n",
              "      <td>4</td>\n",
              "      <td>4</td>\n",
              "      <td>4</td>\n",
              "      <td>4</td>\n",
              "      <td>4</td>\n",
              "    </tr>\n",
              "    <tr>\n",
              "      <th>AIRLINE</th>\n",
              "      <td>AS</td>\n",
              "      <td>AA</td>\n",
              "      <td>US</td>\n",
              "      <td>AA</td>\n",
              "      <td>AS</td>\n",
              "    </tr>\n",
              "    <tr>\n",
              "      <th>FLIGHT_NUMBER</th>\n",
              "      <td>98</td>\n",
              "      <td>2336</td>\n",
              "      <td>840</td>\n",
              "      <td>258</td>\n",
              "      <td>135</td>\n",
              "    </tr>\n",
              "    <tr>\n",
              "      <th>TAIL_NUMBER</th>\n",
              "      <td>N407AS</td>\n",
              "      <td>N3KUAA</td>\n",
              "      <td>N171US</td>\n",
              "      <td>N3HYAA</td>\n",
              "      <td>N527AS</td>\n",
              "    </tr>\n",
              "    <tr>\n",
              "      <th>ORIGIN_AIRPORT</th>\n",
              "      <td>ANC</td>\n",
              "      <td>LAX</td>\n",
              "      <td>SFO</td>\n",
              "      <td>LAX</td>\n",
              "      <td>SEA</td>\n",
              "    </tr>\n",
              "    <tr>\n",
              "      <th>DESTINATION_AIRPORT</th>\n",
              "      <td>SEA</td>\n",
              "      <td>PBI</td>\n",
              "      <td>CLT</td>\n",
              "      <td>MIA</td>\n",
              "      <td>ANC</td>\n",
              "    </tr>\n",
              "    <tr>\n",
              "      <th>SCHEDULED_DEPARTURE</th>\n",
              "      <td>5</td>\n",
              "      <td>10</td>\n",
              "      <td>20</td>\n",
              "      <td>20</td>\n",
              "      <td>25</td>\n",
              "    </tr>\n",
              "    <tr>\n",
              "      <th>DEPARTURE_TIME</th>\n",
              "      <td>2354</td>\n",
              "      <td>2</td>\n",
              "      <td>18</td>\n",
              "      <td>15</td>\n",
              "      <td>24</td>\n",
              "    </tr>\n",
              "    <tr>\n",
              "      <th>DEPARTURE_DELAY</th>\n",
              "      <td>-11</td>\n",
              "      <td>-8</td>\n",
              "      <td>-2</td>\n",
              "      <td>-5</td>\n",
              "      <td>-1</td>\n",
              "    </tr>\n",
              "    <tr>\n",
              "      <th>TAXI_OUT</th>\n",
              "      <td>21</td>\n",
              "      <td>12</td>\n",
              "      <td>16</td>\n",
              "      <td>15</td>\n",
              "      <td>11</td>\n",
              "    </tr>\n",
              "    <tr>\n",
              "      <th>WHEELS_OFF</th>\n",
              "      <td>15</td>\n",
              "      <td>14</td>\n",
              "      <td>34</td>\n",
              "      <td>30</td>\n",
              "      <td>35</td>\n",
              "    </tr>\n",
              "    <tr>\n",
              "      <th>SCHEDULED_TIME</th>\n",
              "      <td>205</td>\n",
              "      <td>280</td>\n",
              "      <td>286</td>\n",
              "      <td>285</td>\n",
              "      <td>235</td>\n",
              "    </tr>\n",
              "    <tr>\n",
              "      <th>ELAPSED_TIME</th>\n",
              "      <td>194</td>\n",
              "      <td>279</td>\n",
              "      <td>293</td>\n",
              "      <td>281</td>\n",
              "      <td>215</td>\n",
              "    </tr>\n",
              "    <tr>\n",
              "      <th>AIR_TIME</th>\n",
              "      <td>169</td>\n",
              "      <td>263</td>\n",
              "      <td>266</td>\n",
              "      <td>258</td>\n",
              "      <td>199</td>\n",
              "    </tr>\n",
              "    <tr>\n",
              "      <th>DISTANCE</th>\n",
              "      <td>1448</td>\n",
              "      <td>2330</td>\n",
              "      <td>2296</td>\n",
              "      <td>2342</td>\n",
              "      <td>1448</td>\n",
              "    </tr>\n",
              "    <tr>\n",
              "      <th>WHEELS_ON</th>\n",
              "      <td>404</td>\n",
              "      <td>737</td>\n",
              "      <td>800</td>\n",
              "      <td>748</td>\n",
              "      <td>254</td>\n",
              "    </tr>\n",
              "    <tr>\n",
              "      <th>TAXI_IN</th>\n",
              "      <td>4</td>\n",
              "      <td>4</td>\n",
              "      <td>11</td>\n",
              "      <td>8</td>\n",
              "      <td>5</td>\n",
              "    </tr>\n",
              "    <tr>\n",
              "      <th>SCHEDULED_ARRIVAL</th>\n",
              "      <td>430</td>\n",
              "      <td>750</td>\n",
              "      <td>806</td>\n",
              "      <td>805</td>\n",
              "      <td>320</td>\n",
              "    </tr>\n",
              "    <tr>\n",
              "      <th>ARRIVAL_TIME</th>\n",
              "      <td>408</td>\n",
              "      <td>741</td>\n",
              "      <td>811</td>\n",
              "      <td>756</td>\n",
              "      <td>259</td>\n",
              "    </tr>\n",
              "    <tr>\n",
              "      <th>ARRIVAL_DELAY</th>\n",
              "      <td>-22</td>\n",
              "      <td>-9</td>\n",
              "      <td>5</td>\n",
              "      <td>-9</td>\n",
              "      <td>-21</td>\n",
              "    </tr>\n",
              "    <tr>\n",
              "      <th>DIVERTED</th>\n",
              "      <td>0</td>\n",
              "      <td>0</td>\n",
              "      <td>0</td>\n",
              "      <td>0</td>\n",
              "      <td>0</td>\n",
              "    </tr>\n",
              "    <tr>\n",
              "      <th>CANCELLED</th>\n",
              "      <td>0</td>\n",
              "      <td>0</td>\n",
              "      <td>0</td>\n",
              "      <td>0</td>\n",
              "      <td>0</td>\n",
              "    </tr>\n",
              "    <tr>\n",
              "      <th>CANCELLATION_REASON</th>\n",
              "      <td>NaN</td>\n",
              "      <td>NaN</td>\n",
              "      <td>NaN</td>\n",
              "      <td>NaN</td>\n",
              "      <td>NaN</td>\n",
              "    </tr>\n",
              "    <tr>\n",
              "      <th>AIR_SYSTEM_DELAY</th>\n",
              "      <td>NaN</td>\n",
              "      <td>NaN</td>\n",
              "      <td>NaN</td>\n",
              "      <td>NaN</td>\n",
              "      <td>NaN</td>\n",
              "    </tr>\n",
              "    <tr>\n",
              "      <th>SECURITY_DELAY</th>\n",
              "      <td>NaN</td>\n",
              "      <td>NaN</td>\n",
              "      <td>NaN</td>\n",
              "      <td>NaN</td>\n",
              "      <td>NaN</td>\n",
              "    </tr>\n",
              "    <tr>\n",
              "      <th>AIRLINE_DELAY</th>\n",
              "      <td>NaN</td>\n",
              "      <td>NaN</td>\n",
              "      <td>NaN</td>\n",
              "      <td>NaN</td>\n",
              "      <td>NaN</td>\n",
              "    </tr>\n",
              "    <tr>\n",
              "      <th>LATE_AIRCRAFT_DELAY</th>\n",
              "      <td>NaN</td>\n",
              "      <td>NaN</td>\n",
              "      <td>NaN</td>\n",
              "      <td>NaN</td>\n",
              "      <td>NaN</td>\n",
              "    </tr>\n",
              "    <tr>\n",
              "      <th>WEATHER_DELAY</th>\n",
              "      <td>NaN</td>\n",
              "      <td>NaN</td>\n",
              "      <td>NaN</td>\n",
              "      <td>NaN</td>\n",
              "      <td>NaN</td>\n",
              "    </tr>\n",
              "    <tr>\n",
              "      <th>origin_airport</th>\n",
              "      <td>Ted Stevens Anchorage Intl</td>\n",
              "      <td>Los Angeles Intl</td>\n",
              "      <td>San Francisco Intl</td>\n",
              "      <td>Los Angeles Intl</td>\n",
              "      <td>Seattle Tacoma Intl</td>\n",
              "    </tr>\n",
              "    <tr>\n",
              "      <th>CITY</th>\n",
              "      <td>Anchorage</td>\n",
              "      <td>Los Angeles</td>\n",
              "      <td>San Francisco</td>\n",
              "      <td>Los Angeles</td>\n",
              "      <td>Seattle</td>\n",
              "    </tr>\n",
              "    <tr>\n",
              "      <th>manufacturer</th>\n",
              "      <td>BOEING</td>\n",
              "      <td>NaN</td>\n",
              "      <td>AIRBUS INDUSTRIE</td>\n",
              "      <td>NaN</td>\n",
              "      <td>BOEING</td>\n",
              "    </tr>\n",
              "    <tr>\n",
              "      <th>AIRLINE_NAME</th>\n",
              "      <td>Alaska Airlines Inc.</td>\n",
              "      <td>American Airlines Inc.</td>\n",
              "      <td>US Airways Inc.</td>\n",
              "      <td>American Airlines Inc.</td>\n",
              "      <td>Alaska Airlines Inc.</td>\n",
              "    </tr>\n",
              "    <tr>\n",
              "      <th>Delay</th>\n",
              "      <td>False</td>\n",
              "      <td>False</td>\n",
              "      <td>True</td>\n",
              "      <td>False</td>\n",
              "      <td>False</td>\n",
              "    </tr>\n",
              "    <tr>\n",
              "      <th>Delay_time</th>\n",
              "      <td>0</td>\n",
              "      <td>0</td>\n",
              "      <td>5</td>\n",
              "      <td>0</td>\n",
              "      <td>0</td>\n",
              "    </tr>\n",
              "    <tr>\n",
              "      <th>departure_day</th>\n",
              "      <td>1</td>\n",
              "      <td>1</td>\n",
              "      <td>1</td>\n",
              "      <td>1</td>\n",
              "      <td>1</td>\n",
              "    </tr>\n",
              "    <tr>\n",
              "      <th>dep_time</th>\n",
              "      <td>0 days 23:54:00</td>\n",
              "      <td>0 days 00:02:00</td>\n",
              "      <td>0 days 00:18:00</td>\n",
              "      <td>0 days 00:15:00</td>\n",
              "      <td>0 days 00:24:00</td>\n",
              "    </tr>\n",
              "    <tr>\n",
              "      <th>arr_time</th>\n",
              "      <td>0 days 04:30:00</td>\n",
              "      <td>0 days 07:50:00</td>\n",
              "      <td>0 days 08:06:00</td>\n",
              "      <td>0 days 08:05:00</td>\n",
              "      <td>0 days 03:20:00</td>\n",
              "    </tr>\n",
              "  </tbody>\n",
              "</table>\n",
              "</div>"
            ],
            "text/plain": [
              "                                              0  ...                     4\n",
              "YEAR                                       2015  ...                  2015\n",
              "MONTH                                         1  ...                     1\n",
              "DAY                                           1  ...                     1\n",
              "DAY_OF_WEEK                                   4  ...                     4\n",
              "AIRLINE                                      AS  ...                    AS\n",
              "FLIGHT_NUMBER                                98  ...                   135\n",
              "TAIL_NUMBER                              N407AS  ...                N527AS\n",
              "ORIGIN_AIRPORT                              ANC  ...                   SEA\n",
              "DESTINATION_AIRPORT                         SEA  ...                   ANC\n",
              "SCHEDULED_DEPARTURE                           5  ...                    25\n",
              "DEPARTURE_TIME                             2354  ...                    24\n",
              "DEPARTURE_DELAY                             -11  ...                    -1\n",
              "TAXI_OUT                                     21  ...                    11\n",
              "WHEELS_OFF                                   15  ...                    35\n",
              "SCHEDULED_TIME                              205  ...                   235\n",
              "ELAPSED_TIME                                194  ...                   215\n",
              "AIR_TIME                                    169  ...                   199\n",
              "DISTANCE                                   1448  ...                  1448\n",
              "WHEELS_ON                                   404  ...                   254\n",
              "TAXI_IN                                       4  ...                     5\n",
              "SCHEDULED_ARRIVAL                           430  ...                   320\n",
              "ARRIVAL_TIME                                408  ...                   259\n",
              "ARRIVAL_DELAY                               -22  ...                   -21\n",
              "DIVERTED                                      0  ...                     0\n",
              "CANCELLED                                     0  ...                     0\n",
              "CANCELLATION_REASON                         NaN  ...                   NaN\n",
              "AIR_SYSTEM_DELAY                            NaN  ...                   NaN\n",
              "SECURITY_DELAY                              NaN  ...                   NaN\n",
              "AIRLINE_DELAY                               NaN  ...                   NaN\n",
              "LATE_AIRCRAFT_DELAY                         NaN  ...                   NaN\n",
              "WEATHER_DELAY                               NaN  ...                   NaN\n",
              "origin_airport       Ted Stevens Anchorage Intl  ...   Seattle Tacoma Intl\n",
              "CITY                                  Anchorage  ...               Seattle\n",
              "manufacturer                             BOEING  ...                BOEING\n",
              "AIRLINE_NAME               Alaska Airlines Inc.  ...  Alaska Airlines Inc.\n",
              "Delay                                     False  ...                 False\n",
              "Delay_time                                    0  ...                     0\n",
              "departure_day                                 1  ...                     1\n",
              "dep_time                        0 days 23:54:00  ...       0 days 00:24:00\n",
              "arr_time                        0 days 04:30:00  ...       0 days 03:20:00\n",
              "\n",
              "[40 rows x 5 columns]"
            ]
          },
          "metadata": {
            "tags": []
          },
          "execution_count": 89
        }
      ]
    },
    {
      "cell_type": "markdown",
      "metadata": {
        "id": "FdEABqrTbSBo"
      },
      "source": [
        "The columns we will use to predict delays"
      ]
    },
    {
      "cell_type": "markdown",
      "metadata": {
        "id": "g1oFzx5liswR"
      },
      "source": [
        "### We'll only keep the columns we deem necessary for the prediction."
      ]
    },
    {
      "cell_type": "code",
      "metadata": {
        "id": "cPci6FjhbSBo"
      },
      "source": [
        "columns = [\"AIRLINE\",\"ORIGIN_AIRPORT\",\"DESTINATION_AIRPORT\",\"SCHEDULED_TIME\",\"departure_day\",\"DEPARTURE_TIME\",\"Delay\"]"
      ],
      "execution_count": 90,
      "outputs": []
    },
    {
      "cell_type": "markdown",
      "metadata": {
        "id": "YrsVdkini4TJ"
      },
      "source": [
        "This seems like a reasonable choice, especially since it's the information that's available to any person at the moment of booking a plane ticket"
      ]
    },
    {
      "cell_type": "code",
      "metadata": {
        "id": "DgN5GjjUbSBo"
      },
      "source": [
        "df = flights[columns]"
      ],
      "execution_count": 91,
      "outputs": []
    },
    {
      "cell_type": "code",
      "metadata": {
        "colab": {
          "base_uri": "https://localhost:8080/"
        },
        "id": "13FX0frXbSBo",
        "outputId": "2df090d4-ccc7-405d-e6e7-18350eddbaed"
      },
      "source": [
        "df.info()"
      ],
      "execution_count": 92,
      "outputs": [
        {
          "output_type": "stream",
          "text": [
            "<class 'pandas.core.frame.DataFrame'>\n",
            "Int64Index: 5819079 entries, 0 to 5819078\n",
            "Data columns (total 7 columns):\n",
            " #   Column               Dtype  \n",
            "---  ------               -----  \n",
            " 0   AIRLINE              object \n",
            " 1   ORIGIN_AIRPORT       object \n",
            " 2   DESTINATION_AIRPORT  object \n",
            " 3   SCHEDULED_TIME       float64\n",
            " 4   departure_day        int64  \n",
            " 5   DEPARTURE_TIME       float64\n",
            " 6   Delay                bool   \n",
            "dtypes: bool(1), float64(2), int64(1), object(3)\n",
            "memory usage: 316.3+ MB\n"
          ],
          "name": "stdout"
        }
      ]
    },
    {
      "cell_type": "code",
      "metadata": {
        "id": "oWqz6G9CbSBp"
      },
      "source": [
        "df = df.dropna(axis=0)"
      ],
      "execution_count": 93,
      "outputs": []
    },
    {
      "cell_type": "code",
      "metadata": {
        "id": "YmScsQIMbSBp"
      },
      "source": [
        "df['AIRLINE'] = df['AIRLINE'].astype('category').cat.codes\n",
        "df['ORIGIN_AIRPORT'] = df['ORIGIN_AIRPORT'].astype('category').cat.codes\n",
        "df['DESTINATION_AIRPORT'] = df['DESTINATION_AIRPORT'].astype('category').cat.codes"
      ],
      "execution_count": 94,
      "outputs": []
    },
    {
      "cell_type": "markdown",
      "metadata": {
        "id": "Uc1TtHkLjIgQ"
      },
      "source": [
        "We turn several columns into the category type to feed into the predictive algorithms"
      ]
    },
    {
      "cell_type": "code",
      "metadata": {
        "colab": {
          "base_uri": "https://localhost:8080/",
          "height": 407
        },
        "id": "gdCqQR_LbSBp",
        "outputId": "5ccf60fa-b88a-4839-f6e8-3939d500d2d0"
      },
      "source": [
        "df"
      ],
      "execution_count": 95,
      "outputs": [
        {
          "output_type": "execute_result",
          "data": {
            "text/html": [
              "<div>\n",
              "<style scoped>\n",
              "    .dataframe tbody tr th:only-of-type {\n",
              "        vertical-align: middle;\n",
              "    }\n",
              "\n",
              "    .dataframe tbody tr th {\n",
              "        vertical-align: top;\n",
              "    }\n",
              "\n",
              "    .dataframe thead th {\n",
              "        text-align: right;\n",
              "    }\n",
              "</style>\n",
              "<table border=\"1\" class=\"dataframe\">\n",
              "  <thead>\n",
              "    <tr style=\"text-align: right;\">\n",
              "      <th></th>\n",
              "      <th>AIRLINE</th>\n",
              "      <th>ORIGIN_AIRPORT</th>\n",
              "      <th>DESTINATION_AIRPORT</th>\n",
              "      <th>SCHEDULED_TIME</th>\n",
              "      <th>departure_day</th>\n",
              "      <th>DEPARTURE_TIME</th>\n",
              "      <th>Delay</th>\n",
              "    </tr>\n",
              "  </thead>\n",
              "  <tbody>\n",
              "    <tr>\n",
              "      <th>0</th>\n",
              "      <td>1</td>\n",
              "      <td>624</td>\n",
              "      <td>885</td>\n",
              "      <td>205.0</td>\n",
              "      <td>1</td>\n",
              "      <td>2354.0</td>\n",
              "      <td>False</td>\n",
              "    </tr>\n",
              "    <tr>\n",
              "      <th>1</th>\n",
              "      <td>0</td>\n",
              "      <td>783</td>\n",
              "      <td>843</td>\n",
              "      <td>280.0</td>\n",
              "      <td>1</td>\n",
              "      <td>2.0</td>\n",
              "      <td>False</td>\n",
              "    </tr>\n",
              "    <tr>\n",
              "      <th>2</th>\n",
              "      <td>11</td>\n",
              "      <td>885</td>\n",
              "      <td>674</td>\n",
              "      <td>286.0</td>\n",
              "      <td>1</td>\n",
              "      <td>18.0</td>\n",
              "      <td>True</td>\n",
              "    </tr>\n",
              "    <tr>\n",
              "      <th>3</th>\n",
              "      <td>0</td>\n",
              "      <td>783</td>\n",
              "      <td>811</td>\n",
              "      <td>285.0</td>\n",
              "      <td>1</td>\n",
              "      <td>15.0</td>\n",
              "      <td>False</td>\n",
              "    </tr>\n",
              "    <tr>\n",
              "      <th>4</th>\n",
              "      <td>1</td>\n",
              "      <td>884</td>\n",
              "      <td>625</td>\n",
              "      <td>235.0</td>\n",
              "      <td>1</td>\n",
              "      <td>24.0</td>\n",
              "      <td>False</td>\n",
              "    </tr>\n",
              "    <tr>\n",
              "      <th>...</th>\n",
              "      <td>...</td>\n",
              "      <td>...</td>\n",
              "      <td>...</td>\n",
              "      <td>...</td>\n",
              "      <td>...</td>\n",
              "      <td>...</td>\n",
              "      <td>...</td>\n",
              "    </tr>\n",
              "    <tr>\n",
              "      <th>5819074</th>\n",
              "      <td>2</td>\n",
              "      <td>783</td>\n",
              "      <td>647</td>\n",
              "      <td>320.0</td>\n",
              "      <td>365</td>\n",
              "      <td>2355.0</td>\n",
              "      <td>False</td>\n",
              "    </tr>\n",
              "    <tr>\n",
              "      <th>5819075</th>\n",
              "      <td>2</td>\n",
              "      <td>773</td>\n",
              "      <td>856</td>\n",
              "      <td>227.0</td>\n",
              "      <td>365</td>\n",
              "      <td>2355.0</td>\n",
              "      <td>False</td>\n",
              "    </tr>\n",
              "    <tr>\n",
              "      <th>5819076</th>\n",
              "      <td>2</td>\n",
              "      <td>773</td>\n",
              "      <td>893</td>\n",
              "      <td>221.0</td>\n",
              "      <td>365</td>\n",
              "      <td>2350.0</td>\n",
              "      <td>False</td>\n",
              "    </tr>\n",
              "    <tr>\n",
              "      <th>5819077</th>\n",
              "      <td>2</td>\n",
              "      <td>800</td>\n",
              "      <td>893</td>\n",
              "      <td>161.0</td>\n",
              "      <td>365</td>\n",
              "      <td>2353.0</td>\n",
              "      <td>False</td>\n",
              "    </tr>\n",
              "    <tr>\n",
              "      <th>5819078</th>\n",
              "      <td>2</td>\n",
              "      <td>773</td>\n",
              "      <td>650</td>\n",
              "      <td>221.0</td>\n",
              "      <td>365</td>\n",
              "      <td>14.0</td>\n",
              "      <td>True</td>\n",
              "    </tr>\n",
              "  </tbody>\n",
              "</table>\n",
              "<p>5732920 rows × 7 columns</p>\n",
              "</div>"
            ],
            "text/plain": [
              "         AIRLINE  ORIGIN_AIRPORT  ...  DEPARTURE_TIME  Delay\n",
              "0              1             624  ...          2354.0  False\n",
              "1              0             783  ...             2.0  False\n",
              "2             11             885  ...            18.0   True\n",
              "3              0             783  ...            15.0  False\n",
              "4              1             884  ...            24.0  False\n",
              "...          ...             ...  ...             ...    ...\n",
              "5819074        2             783  ...          2355.0  False\n",
              "5819075        2             773  ...          2355.0  False\n",
              "5819076        2             773  ...          2350.0  False\n",
              "5819077        2             800  ...          2353.0  False\n",
              "5819078        2             773  ...            14.0   True\n",
              "\n",
              "[5732920 rows x 7 columns]"
            ]
          },
          "metadata": {
            "tags": []
          },
          "execution_count": 95
        }
      ]
    },
    {
      "cell_type": "markdown",
      "metadata": {
        "id": "Znziqxb4jUo4"
      },
      "source": [
        "## Predicting if a flight will be delayed or not."
      ]
    },
    {
      "cell_type": "code",
      "metadata": {
        "id": "xeo47QaNbSBp"
      },
      "source": [
        "X = df[[\"AIRLINE\",\"ORIGIN_AIRPORT\",\"DESTINATION_AIRPORT\",\"SCHEDULED_TIME\",\"departure_day\",\"DEPARTURE_TIME\"]]\n",
        "y = df[\"Delay\"]"
      ],
      "execution_count": 96,
      "outputs": []
    },
    {
      "cell_type": "markdown",
      "metadata": {
        "id": "zu6m9MBDjONV"
      },
      "source": [
        "We want to predict if the flight will be delayed or not, so that's our Y."
      ]
    },
    {
      "cell_type": "code",
      "metadata": {
        "id": "6nlF12AGbSBp"
      },
      "source": [
        "from sklearn.model_selection import train_test_split\n",
        "from sklearn.preprocessing import MinMaxScaler\n",
        "\n",
        "X_train, X_test, y_train, y_test = train_test_split(X, y, random_state = 0)"
      ],
      "execution_count": 97,
      "outputs": []
    },
    {
      "cell_type": "code",
      "metadata": {
        "id": "F5FmIflybSBq"
      },
      "source": [
        "scaler = MinMaxScaler()\n",
        "X_train_scaled = scaler.fit_transform(X_train)\n",
        "# we must apply the scaling to the test set that we computed for the training set\n",
        "X_test_scaled = scaler.transform(X_test)"
      ],
      "execution_count": 98,
      "outputs": []
    },
    {
      "cell_type": "markdown",
      "metadata": {
        "id": "ncjpVOknjecU"
      },
      "source": [
        "### First Model: Linear regression "
      ]
    },
    {
      "cell_type": "code",
      "metadata": {
        "colab": {
          "base_uri": "https://localhost:8080/",
          "height": 54
        },
        "id": "TWykWAn0xvX2",
        "outputId": "3927ab30-5b07-467b-a6d8-cdef978ddbeb"
      },
      "source": [
        "from sklearn.metrics import confusion_matrix, classification_report\n",
        "from sklearn.linear_model import LogisticRegression\n",
        "\n",
        "lr = LogisticRegression()\n",
        "lr.fit(X_train_scaled, y_train)\n",
        "y_pred = lr.predict(X_test_scaled)\n",
        "classification_report(y_test, y_pred, target_names=[\"NOT CANCELLED\", \"CANCELLED\"])"
      ],
      "execution_count": 99,
      "outputs": [
        {
          "output_type": "execute_result",
          "data": {
            "application/vnd.google.colaboratory.intrinsic+json": {
              "type": "string"
            },
            "text/plain": [
              "'               precision    recall  f1-score   support\\n\\nNOT CANCELLED       0.65      0.96      0.77    910564\\n    CANCELLED       0.54      0.08      0.15    522666\\n\\n     accuracy                           0.64   1433230\\n    macro avg       0.59      0.52      0.46   1433230\\n weighted avg       0.61      0.64      0.54   1433230\\n'"
            ]
          },
          "metadata": {
            "tags": []
          },
          "execution_count": 99
        }
      ]
    },
    {
      "cell_type": "code",
      "metadata": {
        "id": "ek7XO14E4gU3"
      },
      "source": [
        "report = classification_report(y_test, y_pred, target_names=[\"NOT CANCELLED\", \"CANCELLED\"])"
      ],
      "execution_count": 100,
      "outputs": []
    },
    {
      "cell_type": "code",
      "metadata": {
        "colab": {
          "base_uri": "https://localhost:8080/"
        },
        "id": "iObl49j54qqw",
        "outputId": "e2d97a16-7744-44dd-a00b-f9bffedb8b3b"
      },
      "source": [
        " print(report)"
      ],
      "execution_count": 101,
      "outputs": [
        {
          "output_type": "stream",
          "text": [
            "               precision    recall  f1-score   support\n",
            "\n",
            "NOT CANCELLED       0.65      0.96      0.77    910564\n",
            "    CANCELLED       0.54      0.08      0.15    522666\n",
            "\n",
            "     accuracy                           0.64   1433230\n",
            "    macro avg       0.59      0.52      0.46   1433230\n",
            " weighted avg       0.61      0.64      0.54   1433230\n",
            "\n"
          ],
          "name": "stdout"
        }
      ]
    },
    {
      "cell_type": "markdown",
      "metadata": {
        "id": "b4CxGq4Ljj_i"
      },
      "source": [
        "While the accuracy may seem decent at first, it's because there's a class imbalance, with more flights not being delayed than otherwise. The regression has a terrible recall for the cancelled flights, predicting most flights are not cancelled. It can predict a mere 8% of all cancelled flights as such, which is an unneceptably bad result."
      ]
    },
    {
      "cell_type": "markdown",
      "metadata": {
        "id": "S09e7IafkKXS"
      },
      "source": [
        "### Random Forest Classifier"
      ]
    },
    {
      "cell_type": "markdown",
      "metadata": {
        "id": "maW3CGcokSAs"
      },
      "source": [
        "With the poor performance of our LR, we now try a Random Forest Classifier with the hopes it'll improve the performance. "
      ]
    },
    {
      "cell_type": "code",
      "metadata": {
        "id": "EznQ6Lrq4xmy"
      },
      "source": [
        "clf = RandomForestClassifier(n_estimators=15, random_state=47).fit(X_train_scaled, y_train)\n",
        "y_predicted = clf.predict(X_test_scaled)\n",
        "confusion = confusion_matrix(y_test, y_predicted)\n"
      ],
      "execution_count": 102,
      "outputs": []
    },
    {
      "cell_type": "markdown",
      "metadata": {
        "id": "zUBfBOMJkaCC"
      },
      "source": [
        "After trying with SEVERAL different n_estimators, 15 seemed to give very good results and didn't need that much computing power. Since the Dataset is huge, training takes time."
      ]
    },
    {
      "cell_type": "code",
      "metadata": {
        "colab": {
          "base_uri": "https://localhost:8080/"
        },
        "id": "5yW7dcJQbSBq",
        "outputId": "c485c7b3-e8a0-45fa-9d70-2c49a1ffe749"
      },
      "source": [
        "print('Recall: {:.3f}'.format(recall_score(y_test, y_predicted)))\n",
        "print('Precision: {:.3f}'.format(precision_score(y_test, y_predicted,average=\"micro\")))\n",
        "print('Accuracy: {:.3f}'.format(accuracy_score(y_test, y_predicted),average=\"micro\"))\n",
        "print('F1: {:.3f}'.format(f1_score(y_test, y_predicted,average=\"micro\")))\n",
        "confusion = confusion_matrix(y_test, y_predicted)\n",
        "print(confusion)\n",
        "print('Feature importances: {}'.format(clf.feature_importances_))"
      ],
      "execution_count": 103,
      "outputs": [
        {
          "output_type": "stream",
          "text": [
            "Recall: 0.580\n",
            "Precision: 0.757\n",
            "Accuracy: 0.757\n",
            "F1: 0.757\n",
            "[[782321 128243]\n",
            " [219650 303016]]\n",
            "Feature importances: [0.02845572 0.10123018 0.1004377  0.14842961 0.29124515 0.33020164]\n"
          ],
          "name": "stdout"
        }
      ]
    },
    {
      "cell_type": "code",
      "metadata": {
        "colab": {
          "base_uri": "https://localhost:8080/"
        },
        "id": "ufW46Z0NkCot",
        "outputId": "31c55586-a8b5-45ac-d1ce-171fb6d2c2e9"
      },
      "source": [
        "print(classification_report(y_test, y_predicted, target_names=[\"NOT CANCELLED\", \"CANCELLED\"]))"
      ],
      "execution_count": 105,
      "outputs": [
        {
          "output_type": "stream",
          "text": [
            "               precision    recall  f1-score   support\n",
            "\n",
            "NOT CANCELLED       0.78      0.86      0.82    910564\n",
            "    CANCELLED       0.70      0.58      0.64    522666\n",
            "\n",
            "     accuracy                           0.76   1433230\n",
            "    macro avg       0.74      0.72      0.73   1433230\n",
            " weighted avg       0.75      0.76      0.75   1433230\n",
            "\n"
          ],
          "name": "stdout"
        }
      ]
    },
    {
      "cell_type": "markdown",
      "metadata": {
        "id": "xmmmEw6ikm85"
      },
      "source": [
        "Our results are very positive, this time we can predict 58% of the delayed flights as such, while this is nowhere near as good as 100%, anyone buying a plane ticket can have a good guess at whether their flight will be delayed or not. The information fed to this algorithm is minimal, so the results are quite good for the context."
      ]
    },
    {
      "cell_type": "markdown",
      "metadata": {
        "id": "wm3g1ZSbk-Cy"
      },
      "source": [
        "## Conclusions\n",
        "\n",
        "Much better results could be had with further information, specially if we had some sort of weather prediction information. But for this to work properly, we would need to work near the dates of the flight to have a good predictor. Other more subtle parameters could be added to the mix, but for this we would need more information that's not available to the public. \n",
        "\n",
        "For people with this information and a much higher computing power, I assume a great accuracy could be reach when predicting delays in flight that could help solve the problem if seriously taken."
      ]
    }
  ]
}